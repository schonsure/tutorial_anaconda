{
 "cells": [
  {
   "cell_type": "raw",
   "metadata": {},
   "source": [
    "Nama : Mediana Alissa Putri\n",
    "NIM  : 18021106074\n",
    "TIK3042D - Topik Khusus Teknik Informatika\n",
    "\n",
    "\n",
    "\n",
    "TUTORIAL INSTALL ANACONDA OPENCV\n",
    "\n",
    "Untuk bisa menggunakan OpenCV, hal pertama yang harus dilakukan setelah install Anaconda adalah set environment\n",
    "dengan mengetikan ini di anaconda prompt.\n",
    "\n",
    "pip install opencv-python==3.4.2\n",
    "pip install opencv-contrib-python==3.3.1\n",
    "\n",
    "Saat menginstall opencv, harus terkoneksi dengan internet agar proses instalasi berjalan.\n",
    "Setelah terinstall, importlah sebuah package untuk mengecek apakah opencv sudah bisa bekerja.\n",
    "\n",
    "import cv2\n",
    "cv2.__version__\n",
    "\n",
    "Jika sudah terimport tanpa adanya error, artinya openCV sudah bisa digunakan :)\n",
    "\n"
   ]
  }
 ],
 "metadata": {
  "kernelspec": {
   "display_name": "Python 3",
   "language": "python",
   "name": "python3"
  },
  "language_info": {
   "codemirror_mode": {
    "name": "ipython",
    "version": 3
   },
   "file_extension": ".py",
   "mimetype": "text/x-python",
   "name": "python",
   "nbconvert_exporter": "python",
   "pygments_lexer": "ipython3",
   "version": "3.7.6"
  }
 },
 "nbformat": 4,
 "nbformat_minor": 4
}
